{
 "cells": [
  {
   "cell_type": "markdown",
   "id": "124e5672",
   "metadata": {},
   "source": [
    "# Building a chatbot - LLM + RAG"
   ]
  },
  {
   "cell_type": "markdown",
   "id": "2a4a94b3",
   "metadata": {},
   "source": [
    "This notebook demonstrates a simple chatbot for news-based stock investments. The user supplies a list of ticker symbols of interest. We scrape the web to download recent news events relating to the symbols. Then, we use an LLM based on RAG to query this dataset to determine, for example, whether a given stock appears promising to buy. In such a situation, additional recent context is critical since otherwise, the LLM would not have recent news events in its training data to intelligently gauge potential near-term stock performance."
   ]
  },
  {
   "cell_type": "markdown",
   "id": "a63d4c5f",
   "metadata": {},
   "source": [
    "## Data Wrangling\n",
    "\n",
    "In the cells below, load needed imports, and work towards creating a `pandas` dataframe with a column named `\"text\"`. This column contains all of our text data that can be used as potential context by our RAG-based solution. We also keep another column named \"ticker\" , which captures which symbol the text pertains to.  As we will see, the ticker symbol is not used for classical RAG, but we will use it to compare to a \"manual RAG\" in which we directly feed, as context, the text pertaining to the symbol that is queried by the user. This forms an interesting baseline to compare semantic search with! "
   ]
  },
  {
   "cell_type": "code",
   "execution_count": 1,
   "id": "0eaeca72-2955-4c69-9289-18ce8e6b6470",
   "metadata": {},
   "outputs": [],
   "source": [
    "api_key = \"YOUR API KEY\"  # replace with your actual key\n",
    "\n",
    "import numpy as np\n",
    "import yfinance as yf\n",
    "import pandas as pd\n",
    "import openai\n",
    "import time\n",
    "from sklearn.metrics.pairwise import cosine_similarity\n",
    "\n",
    "from openai import OpenAI\n",
    "client = OpenAI(\n",
    "    base_url = \"https://openai.vocareum.com/v1\",\n",
    "    api_key = api_key\n",
    ")\n",
    "\n",
    "\n"
   ]
  },
  {
   "cell_type": "markdown",
   "id": "bc2e1f5c-a30c-4c7e-bdc8-a3f059f1311f",
   "metadata": {},
   "source": [
    "We define a helper function which inputs news items returned by yfinance into a date and a short text snippet."
   ]
  },
  {
   "cell_type": "code",
   "execution_count": 2,
   "id": "8d6ec7dd-cad3-401d-8d51-f197dc488687",
   "metadata": {},
   "outputs": [],
   "source": [
    "#Helper function which maps news items returned by yfinance into a date and snippet, discarding other fields\n",
    "def extract_stock_snippets(data):\n",
    "    results = []\n",
    "    for item in data:\n",
    "        content = item.get(\"content\", {})\n",
    "        pub_date = content.get(\"pubDate\", \"N/A\")\n",
    "\n",
    "        # Prioritize 'summary', then fallback to 'description' or 'title'\n",
    "        summary = content.get(\"summary\") or content.get(\"description\") or content.get(\"title\") or \"No content\"\n",
    "\n",
    "        # Clean any HTML tags from 'description' if needed\n",
    "        from bs4 import BeautifulSoup\n",
    "        if \"<\" in summary:\n",
    "            summary = BeautifulSoup(summary, \"html.parser\").get_text()\n",
    "\n",
    "        results.append({\n",
    "            \"date\": pub_date,\n",
    "            \"snippet\": summary.strip()\n",
    "        })\n",
    "    return results"
   ]
  },
  {
   "cell_type": "markdown",
   "id": "49f23cd3-000e-4d6e-8c9b-bee463869164",
   "metadata": {},
   "source": [
    "Next, we define a list of stock symbols we are interested in, and obtain recent news snippets for each one."
   ]
  },
  {
   "cell_type": "code",
   "execution_count": 3,
   "id": "c69b83a1",
   "metadata": {},
   "outputs": [],
   "source": [
    "\n",
    "tickers = [\n",
    "    'AAPL',  # Apple\n",
    "    'TSLA',  # Tesla\n",
    "    'GOOGL', # Alphabet \n",
    "    'MSFT',  # Microsoft\n",
    "    'AMZN',  # Amazon\n",
    "    'META',  # Meta \n",
    "    'NVDA',  # NVIDIA\n",
    "    'NFLX',  # Netflix\n",
    "    'INTC',  # Intel\n",
    "    'AMD',   # Advanced Micro Devices\n",
    "    'BRK.B', # Berkshire Hathaway\n",
    "    'JPM',   # JPMorgan Chase\n",
    "    'BAC',   # Bank of America\n",
    "    'WMT',   # Walmart\n",
    "    'TGT',   # Target\n",
    "    'KO',    # Coca-Cola\n",
    "    'PEP',   # PepsiCo\n",
    "    'CVX',   # Chevron\n",
    "    'XOM',   # ExxonMobil\n",
    "    'UNH',   # UnitedHealth Group\n",
    "    'PFE',   # Pfizer\n",
    "    'MRK',   # Merck\n",
    "    'DIS',   # Disney\n",
    "    'BA',    # Boeing\n",
    "    'GM'     # General Motors\n",
    "]\n",
    "\n",
    "snippets = {}\n",
    "\n",
    "for ticker in tickers:\n",
    "    stock = yf.Ticker(ticker)\n",
    "    news = stock.news[:5]  # First few news items\n",
    "    snippets[ticker] = extract_stock_snippets(news)"
   ]
  },
  {
   "cell_type": "markdown",
   "id": "d6c913af-dd05-4f80-9692-d3cc3da95588",
   "metadata": {},
   "source": [
    "To wrap up our data creation step, we create one row of text per symbol, where we consolidate multiple news snippets per symbol into a single row. Then we save the dataframe to csv. This is our final \"context\" data source that our RAG system will use."
   ]
  },
  {
   "cell_type": "code",
   "execution_count": 4,
   "id": "acb3a9fd",
   "metadata": {},
   "outputs": [],
   "source": [
    "# Flatten the dict into a list of rows\n",
    "rows = []\n",
    "\n",
    "for ticker, articles in snippets.items():\n",
    "    # Combine each snippet with its date\n",
    "    combined = [\n",
    "        f\"[{item['date']}] {item['snippet']}\" for item in articles\n",
    "    ]\n",
    "    \n",
    "    # Join into a single string (one cell per stock)\n",
    "    combined_text = \"\\n\".join(combined)\n",
    "    \n",
    "    # Add to row list\n",
    "    rows.append({\n",
    "        \"ticker\": ticker,\n",
    "        \"text\": combined_text\n",
    "    })\n",
    "\n",
    "# Create DataFrame\n",
    "df = pd.DataFrame(rows)\n",
    "\n",
    "# Save\n",
    "df.to_csv(\"stock_snippets_summary.csv\", index=False)\n"
   ]
  },
  {
   "cell_type": "markdown",
   "id": "ae769871",
   "metadata": {},
   "source": [
    "## Custom Query Completion\n",
    "\n",
    "In the following code blocks, we define helper functions and work towards completing a user-provided prompt by using RAG to augment the LLM's response."
   ]
  },
  {
   "cell_type": "markdown",
   "id": "7feef6ef-6b29-40bd-9725-a279b246ea8b",
   "metadata": {},
   "source": [
    "We begin by implementing a function which embeds our context data csv."
   ]
  },
  {
   "cell_type": "code",
   "execution_count": 5,
   "id": "582f0656",
   "metadata": {},
   "outputs": [],
   "source": [
    "\n",
    "\n",
    "\n",
    "def create_embeddings_from_doc():\n",
    "    # Load CSV\n",
    "    df = pd.read_csv(\"stock_snippets_summary.csv\")  \n",
    "    \n",
    "    # Configure model\n",
    "    EMBEDDING_MODEL_NAME = \"text-embedding-ada-002\"\n",
    "    batch_size = 100\n",
    "    df['text'] = df['text'].astype(str)  # ensure all inputs are strings\n",
    "    \n",
    "    # Function to get embeddings in batches\n",
    "    def get_embeddings(text_list):\n",
    "        response = client.embeddings.create(\n",
    "            input=text_list,\n",
    "            model=EMBEDDING_MODEL_NAME\n",
    "        )\n",
    "        return [item.embedding for item in response.data]\n",
    "    \n",
    "    # Generate embeddings\n",
    "    embeddings = []\n",
    "    for i in range(0, len(df), batch_size):\n",
    "        batch = df['text'].iloc[i:i + batch_size].tolist()\n",
    "        try:\n",
    "            batch_embeddings = get_embeddings(batch)\n",
    "            embeddings.extend(batch_embeddings)\n",
    "        except Exception as e:\n",
    "            print(f\"Error on batch {i}: {e}\")\n",
    "            # Optional: backoff and retry\n",
    "            time.sleep(5)\n",
    "    \n",
    "    # Add embeddings to the DataFrame\n",
    "    df[\"embedding\"] = embeddings\n",
    "    \n",
    "    # Save the DataFrame\n",
    "    df.to_pickle(\"embedded_stocks.pkl\")  \n"
   ]
  },
  {
   "cell_type": "markdown",
   "id": "949b7c53-d2b1-4f6b-a8e3-a0e2b2731fc4",
   "metadata": {},
   "source": [
    "Next, we create a function to embed the user provided query."
   ]
  },
  {
   "cell_type": "code",
   "execution_count": 6,
   "id": "8b6e1f75",
   "metadata": {},
   "outputs": [],
   "source": [
    "def embed_query(prompt: str, model=\"text-embedding-ada-002\"):\n",
    "    \"\"\"\n",
    "    Embed the user prompt using OpenAI client v1.\n",
    "    \"\"\"\n",
    "    response = client.embeddings.create(\n",
    "        input=[prompt],\n",
    "        model=model\n",
    "    )\n",
    "    return response.data[0].embedding"
   ]
  },
  {
   "cell_type": "markdown",
   "id": "5fa2a241-f19f-4c93-97e6-ebab79132441",
   "metadata": {},
   "source": [
    "Finally, we create a function to find context results that are similar to the user query."
   ]
  },
  {
   "cell_type": "code",
   "execution_count": 7,
   "id": "eb1c3184-a609-443f-b39c-3b22b934ed19",
   "metadata": {},
   "outputs": [],
   "source": [
    "def search_similar(prompt, df, top_n=5):\n",
    "    \"\"\"\n",
    "    Embed the prompt and find top N most similar rows in df based on cosine similarity.\n",
    "    \"\"\"\n",
    "    # Embed the prompt\n",
    "    query_embedding = embed_query(prompt)\n",
    "\n",
    "    # Convert embeddings from df into a matrix\n",
    "    embedding_matrix = np.array(df['embedding'].tolist())\n",
    "\n",
    "    # Compute cosine similarity\n",
    "    similarities = cosine_similarity([query_embedding], embedding_matrix)[0]\n",
    "\n",
    "    # Get top N most similar indices\n",
    "    top_indices = np.argsort(similarities)[-top_n:][::-1]\n",
    "\n",
    "    # Return matching rows with similarity scores\n",
    "    results = df.iloc[top_indices].copy()\n",
    "    results[\"similarity\"] = similarities[top_indices]\n",
    "    return results"
   ]
  },
  {
   "cell_type": "code",
   "execution_count": 8,
   "id": "13f2dcd7",
   "metadata": {},
   "outputs": [],
   "source": [
    "create_embeddings_from_doc()"
   ]
  },
  {
   "cell_type": "code",
   "execution_count": 9,
   "id": "74280b92",
   "metadata": {},
   "outputs": [],
   "source": [
    "def build_prompt(user_prompt, context_results, max_context_chars=3000):\n",
    "    \"\"\"\n",
    "    Builds a prompt with context from the RAG results and user query.\n",
    "    \"\"\"\n",
    "    context_texts = []\n",
    "\n",
    "    # Accumulate snippets until max_context_chars is reached\n",
    "    char_count = 0\n",
    "    for idx, row in context_results.iterrows():\n",
    "        snippet = row.get(\"text\") or \"\"\n",
    "        if snippet and (char_count + len(snippet)) < max_context_chars:\n",
    "            context_texts.append(snippet)\n",
    "            char_count += len(snippet)\n",
    "        else:\n",
    "            break\n",
    "\n",
    "    context_block = \"\\n\\n\".join(context_texts)\n",
    "\n",
    "    final_prompt = (\n",
    "        f\"You are an intelligent financial assistant. You will be given recent news snippets related to specific stocks. \"\n",
    "        f\"Use this context to answer the user's question as accurately as possible.\\n\\n\"\n",
    "        f\"Context:\\n{context_block}\\n\\n\"\n",
    "        f\"User question: {user_prompt}\\n\\n\"\n",
    "        f\"Answer:\"\n",
    "    )\n",
    "    return final_prompt\n",
    "\n",
    "\n",
    "def query_openai_with_context(user_prompt, context_df=None):\n",
    "\n",
    "\n",
    "    if context_df is not None and not context_df.empty:\n",
    "        final_prompt = build_prompt(user_prompt, context_df)\n",
    "    else:\n",
    "        final_prompt = user_prompt\n",
    "    \n",
    "    response = client.chat.completions.create(\n",
    "        model=\"gpt-3.5-turbo\",  \n",
    "        messages=[\n",
    "            {\"role\": \"system\", \"content\": \"You are an intelligent financial assistant.\"},\n",
    "            {\"role\": \"user\", \"content\": final_prompt}\n",
    "        ],\n",
    "        temperature=0.3,\n",
    "        max_tokens=500,\n",
    "        n=1,\n",
    "        stop=None\n",
    "    )\n",
    "\n",
    "    return response.choices[0].message.content.strip()\n",
    "\n",
    "\n"
   ]
  },
  {
   "cell_type": "markdown",
   "id": "1783f146",
   "metadata": {},
   "source": [
    "## Custom Performance Demonstration\n",
    "\n",
    "In the cells below, we compare the outputs of our custom queries with various prompting techniques seeking to know how attractive it is to purchase the stocks of 2 different companies. For each company, our prommpts include\n",
    "\n",
    "i) a basic LLM-based prompt, with no RAG (i.e., no recent context)\n",
    "\n",
    "ii) a \"manual RAG\" based prompt, wherein we explicitly feed in the text pertaining to the stock symbol of interest. This step bypasses the vector embedding and cosine-similarity steps, using knowledge of the symbol to directly provide context.\n",
    "\n",
    "iii) a \"classic RAG\" based prompt, using vector embeddings and cosine-similarity to find the most relevant context for the provided query. \n",
    "\n",
    "\n",
    "\n"
   ]
  },
  {
   "cell_type": "markdown",
   "id": "a36427b1-8c10-425f-9c86-b7654a607543",
   "metadata": {},
   "source": [
    "We begin with asking questions about Tesla. Notice that the vanilla LLM reply is to avoid answering the question, whereas the other two responses are qualitatively similar. "
   ]
  },
  {
   "cell_type": "markdown",
   "id": "4f11fdc0",
   "metadata": {},
   "source": [
    "### Question 1"
   ]
  },
  {
   "cell_type": "code",
   "execution_count": 10,
   "id": "bd7a093b",
   "metadata": {},
   "outputs": [
    {
     "name": "stdout",
     "output_type": "stream",
     "text": [
      "LLM-based answer, no RAG:\n",
      "\n",
      "I cannot provide personalized investment advice. However, it's important to conduct thorough research and consider various factors such as Tesla's financial performance, industry trends, and your own investment goals and risk tolerance before making any investment decisions. It may also be helpful to consult with a financial advisor for guidance tailored to your individual situation.\n"
     ]
    }
   ],
   "source": [
    "loaded_embeddings = pd.read_pickle(\"embedded_stocks.pkl\")  \n",
    "query=\"Is Tesla worth buying right now?\"\n",
    "response = query_openai_with_context(query, None)\n",
    "print(\"LLM-based answer, no RAG:\\n\")\n",
    "print(response)"
   ]
  },
  {
   "cell_type": "code",
   "execution_count": 11,
   "id": "16913794-f90c-4ddb-8986-1e714e2c5147",
   "metadata": {},
   "outputs": [
    {
     "name": "stdout",
     "output_type": "stream",
     "text": [
      "LLM-based answer, manual RAG:\n",
      "\n",
      "As an intelligent financial assistant, I cannot provide personalized investment advice. However, based on recent news snippets, it appears that Tesla (TSLA) stock has been climbing due to positive developments such as the $16.5 billion chip deal with Samsung for AI chips. This deal could potentially have a positive impact on Tesla's future technology and product offerings. It is important for investors to conduct their own research, consider their investment goals, risk tolerance, and consult with a financial advisor before making any investment decisions regarding Tesla or any other stock.\n"
     ]
    }
   ],
   "source": [
    "query=\"Is Tesla worth buying right now?\"\n",
    "symbol='TSLA'\n",
    "df = pd.read_csv(\"stock_snippets_summary.csv\")\n",
    "top_results = df[df['ticker'] == symbol]['text'].to_frame() #manually acquire context\n",
    "response = query_openai_with_context(query, top_results)\n",
    "print(\"LLM-based answer, manual RAG:\\n\")\n",
    "print(response)"
   ]
  },
  {
   "cell_type": "code",
   "execution_count": 12,
   "id": "681ecc10-7608-4c34-b1b1-7392c9ac5f8e",
   "metadata": {},
   "outputs": [
    {
     "name": "stdout",
     "output_type": "stream",
     "text": [
      "LLM-based answer, with RAG:\n",
      "\n",
      "As of the recent news snippets provided, Tesla (TSLA) stock has been on the rise following the announcement of a significant $16.5 billion chip deal with Samsung for AI chips. This deal is seen as a positive development for Tesla's future technology advancements, including applications in autonomous driving and AI data centers. Additionally, Elon Musk's statements regarding the potential growth opportunities from this deal have generated optimism around Tesla's prospects.\n",
      "\n",
      "However, it's important to note that stock prices can be volatile and subject to various market factors. Considering the recent positive news surrounding Tesla and its strategic partnerships, some investors may view Tesla as a potential buy opportunity. As always, it's advisable to conduct thorough research, consider your investment goals and risk tolerance, and consult with a financial advisor before making any investment decisions.\n"
     ]
    }
   ],
   "source": [
    "query=\"Is Tesla worth buying right now?\"\n",
    "loaded_embeddings = pd.read_pickle(\"embedded_stocks.pkl\")  \n",
    "top_results = search_similar(query, loaded_embeddings, top_n=5) #semantic search based context\n",
    "response = query_openai_with_context(query, top_results)\n",
    "print(\"LLM-based answer, with RAG:\\n\")\n",
    "print(response)"
   ]
  },
  {
   "cell_type": "markdown",
   "id": "6e86e37c",
   "metadata": {},
   "source": [
    "### Question 2"
   ]
  },
  {
   "cell_type": "markdown",
   "id": "904d2e42-b392-4ba8-b7e8-74768d721e99",
   "metadata": {},
   "source": [
    "Next, we ask a slightly differently worded question about Nvidia.  This wording circuments the vanilla LLM 's behavior or avoiding the question. "
   ]
  },
  {
   "cell_type": "code",
   "execution_count": 13,
   "id": "11c07a54",
   "metadata": {},
   "outputs": [
    {
     "name": "stdout",
     "output_type": "stream",
     "text": [
      "LLM-based answer, no RAG:\n",
      "\n",
      "Yes, Nvidia has been showing strong growth potential based on recent news. The company has been benefiting from the increasing demand for its graphics processing units (GPUs) in various industries such as gaming, data centers, and artificial intelligence. Nvidia's recent acquisitions and partnerships have also positioned the company well for future growth opportunities. Additionally, the company's focus on innovation and development of new technologies has been well-received by investors and analysts, further supporting its growth potential.\n"
     ]
    }
   ],
   "source": [
    "loaded_embeddings = pd.read_pickle(\"embedded_stocks.pkl\")\n",
    "\n",
    "query=\"Is Nvidia showing growth potential based on recent news?\"\n",
    "response = query_openai_with_context(query, None)\n",
    "print(\"LLM-based answer, no RAG:\\n\")\n",
    "print(response)"
   ]
  },
  {
   "cell_type": "code",
   "execution_count": 14,
   "id": "08195dd2-4422-4f89-b2f8-6e8a51368578",
   "metadata": {},
   "outputs": [
    {
     "name": "stdout",
     "output_type": "stream",
     "text": [
      "LLM-based answer, manual RAG:\n",
      "\n",
      "Based on recent news, there are mixed signals regarding NVIDIA's growth potential. While NVIDIA has been one of the top stocks Wall Street is buzzing about, with a strong performance leading to profit-taking recommendations from experts like Josh Brown, there may be some caution regarding its future growth trajectory. It is advisable to closely monitor further developments and expert opinions to assess NVIDIA's growth potential accurately.\n"
     ]
    }
   ],
   "source": [
    "query=\"Is Nvidia showing growth potential based on recent news?\"\n",
    "symbol='NVDA'\n",
    "df = pd.read_csv(\"stock_snippets_summary.csv\")\n",
    "top_results = df[df['ticker'] == symbol]['text'].to_frame()\n",
    "response = query_openai_with_context(query, top_results)\n",
    "print(\"LLM-based answer, manual RAG:\\n\")\n",
    "print(response)"
   ]
  },
  {
   "cell_type": "code",
   "execution_count": 15,
   "id": "f11c0584-3362-429d-a9d9-db509c2f34c2",
   "metadata": {},
   "outputs": [
    {
     "name": "stdout",
     "output_type": "stream",
     "text": [
      "LLM-based answer, with RAG:\n",
      "\n",
      "Based on recent news snippets, there are mixed signals regarding NVIDIA's growth potential. While NVIDIA is one of the top stocks Wall Street is buzzing about, with strong performance mentioned, there are also reports of Josh Brown, CEO of Ritholtz Wealth Management, suggesting his followers to sell NVIDIA shares to take profits. This indicates some caution in the market regarding NVIDIA's future growth potential. It would be advisable to monitor further developments and analyst opinions to assess NVIDIA's growth trajectory accurately.\n"
     ]
    }
   ],
   "source": [
    "query=\"Is Nvidia showing growth potential based on recent news?\"\n",
    "top_results = search_similar(query, loaded_embeddings, top_n=5)\n",
    "response = query_openai_with_context(query, top_results)\n",
    "print(\"LLM-based answer, with RAG:\\n\")\n",
    "print(response)"
   ]
  },
  {
   "cell_type": "code",
   "execution_count": 16,
   "id": "3f44b0a6-ab85-4fbe-a540-eb01cc400f84",
   "metadata": {},
   "outputs": [
    {
     "name": "stdout",
     "output_type": "stream",
     "text": [
      "LLM-based answer, no RAG:\n",
      "\n",
      "I don't have real-time data or the ability to predict future stock performance. I recommend conducting thorough research on Boeing, including analyzing their financial statements, market trends, and news updates to make an informed decision about their potential performance. It may also be helpful to consult with a financial advisor for personalized advice.\n"
     ]
    }
   ],
   "source": [
    "loaded_embeddings = pd.read_pickle(\"embedded_stocks.pkl\")\n",
    "\n",
    "query=\"Is Boeing likely to do well based on recent news?\"\n",
    "response = query_openai_with_context(query, None)\n",
    "print(\"LLM-based answer, no RAG:\\n\")\n",
    "print(response)"
   ]
  },
  {
   "cell_type": "code",
   "execution_count": 17,
   "id": "9682b010-13f8-429c-930b-ec2a86750182",
   "metadata": {},
   "outputs": [
    {
     "name": "stdout",
     "output_type": "stream",
     "text": [
      "LLM-based answer, manual RAG:\n",
      "\n",
      "Based on the recent news snippets provided, Boeing is expected to report its second-quarter earnings soon, and investors are looking to CEO Kelly Ortberg to continue the company's turnaround efforts. Additionally, the fact that the Dow Jones manufacturer, which includes Boeing, was exempted from tariffs in an EU trade deal could be seen as a positive development. However, it is important to note that the stock market is at record highs, and there is anticipation for a busy week of corporate earnings reports, which could impact Boeing's performance. Overall, while there are some positive indicators for Boeing, it is essential to consider the broader market conditions and the company's specific financial results when evaluating its potential performance.\n"
     ]
    }
   ],
   "source": [
    "query=\"Is Boeing likely to do well based on recent news?\"\n",
    "symbol='BA'\n",
    "df = pd.read_csv(\"stock_snippets_summary.csv\")\n",
    "top_results = df[df['ticker'] == symbol]['text'].to_frame()\n",
    "response = query_openai_with_context(query, top_results)\n",
    "print(\"LLM-based answer, manual RAG:\\n\")\n",
    "print(response)"
   ]
  },
  {
   "cell_type": "code",
   "execution_count": 18,
   "id": "012c99cd-a066-4641-b3c1-810886a4e3f9",
   "metadata": {},
   "outputs": [
    {
     "name": "stdout",
     "output_type": "stream",
     "text": [
      "LLM-based answer, with RAG:\n",
      "\n",
      "Based on the recent news snippets provided, Boeing is set to report its second-quarter earnings, and investors are looking to CEO Kelly Ortberg to continue the turnaround efforts at the company. Additionally, Boeing was exempted from tariffs in an EU trade deal. However, union workers are preparing for a possible strike. The stock market is at record highs, but there are growing headwinds in the market.\n",
      "\n",
      "Considering these factors, Boeing's performance may be influenced by a combination of its earnings report, CEO leadership, tariff exemptions, and potential labor issues. It is essential to monitor the earnings release and any subsequent developments to assess Boeing's performance accurately.\n"
     ]
    }
   ],
   "source": [
    "query=\"Is Boeing likely to do well based on recent news?\"\n",
    "top_results = search_similar(query, loaded_embeddings, top_n=5)\n",
    "response = query_openai_with_context(query, top_results)\n",
    "print(\"LLM-based answer, with RAG:\\n\")\n",
    "print(response)"
   ]
  },
  {
   "cell_type": "markdown",
   "id": "8689b423-7332-4bbe-b48f-61a1960f5be1",
   "metadata": {},
   "source": [
    "In general, manual and classical RAG produce similar output. In situations where the vector database may be massive, and there is a way to \"index\" relevant contexts (such as via the \"ticker\" key here, which allows us to effectively bypass semantic search), manual RAG can be employed to produce more rapid results.  Such a solution may be appropriate whenever our queries naturally fall into \"categories\" and where it is easy for us to a-priori store context per-category."
   ]
  },
  {
   "cell_type": "code",
   "execution_count": null,
   "id": "63c7f610-5294-4a2a-aba2-a86323ac393a",
   "metadata": {},
   "outputs": [],
   "source": []
  },
  {
   "cell_type": "code",
   "execution_count": null,
   "id": "00dae1e8-ace2-49f2-b46d-8895af8e96c5",
   "metadata": {},
   "outputs": [],
   "source": []
  }
 ],
 "metadata": {
  "kernelspec": {
   "display_name": "Python 3 (ipykernel)",
   "language": "python",
   "name": "python3"
  },
  "language_info": {
   "codemirror_mode": {
    "name": "ipython",
    "version": 3
   },
   "file_extension": ".py",
   "mimetype": "text/x-python",
   "name": "python",
   "nbconvert_exporter": "python",
   "pygments_lexer": "ipython3",
   "version": "3.9.23"
  }
 },
 "nbformat": 4,
 "nbformat_minor": 5
}
